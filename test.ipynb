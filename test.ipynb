{
 "cells": [
  {
   "cell_type": "code",
   "execution_count": 9,
   "metadata": {},
   "outputs": [],
   "source": [
    "import time\n",
    "import matplotlib.pyplot as plt\n",
    "import numpy as np\n",
    "\n",
    "from battleship.game import Game\n",
    "from battleship.strategy import RandomStrategy, HuntAndTargetStrategy, ProbabilityStrategy, ProbabilityChessboardStrategy, ProbabilitySmallerRectangleStrategy"
   ]
  },
  {
   "cell_type": "code",
   "execution_count": 10,
   "metadata": {},
   "outputs": [],
   "source": [
    "start_time = time.time()"
   ]
  },
  {
   "cell_type": "code",
   "execution_count": 35,
   "metadata": {},
   "outputs": [
    {
     "name": "stdout",
     "output_type": "stream",
     "text": [
      "[0, 0, 0, 0, 0, 0, 0, 0, 0, 0, 0, 0, 0, 0, 0, 0, 0, 0, 0, 0, 0, 0, 0, 0, 0, 1, 2, 4, 10, 3, 13, 10, 17, 24, 28, 38, 39, 31, 40, 32, 35, 46, 51, 45, 39, 32, 43, 45, 56, 40, 36, 30, 25, 21, 21, 18, 18, 9, 16, 14, 12, 19, 7, 7, 10, 5, 5, 1, 2, 0, 0, 0, 0, 0, 0, 0, 0, 0, 0, 0, 0, 0, 0, 0, 0, 0, 0, 0, 0, 0, 0, 0, 0, 0, 0, 0, 0, 0, 0, 0, 0]\n"
     ]
    },
    {
     "data": {
      "image/png": "[encoded data removed]",
      "text/plain": [
       "<Figure size 720x432 with 1 Axes>"
      ]
     },
     "metadata": {
      "needs_background": "light"
     },
     "output_type": "display_data"
    },
    {
     "name": "stdout",
     "output_type": "stream",
     "text": [
      "Czas wykonania: 18579.00387 sekund\n"
     ]
    }
   ],
   "source": [
    "table_of_results = []\n",
    "strategies = [\n",
    "    ProbabilityStrategy\n",
    "    # RandomStrategy,\n",
    "    # lambda game: ProbabilityChessboardStrategy(game, divisor=2, remainder=1, block=30),\n",
    "    # lambda game: ProbabilitySmallerRectangleStrategy(game, top_left_corner=(0, 0), lower_right_corner=(4, 4), block=20)\n",
    "\n",
    "    ]\n",
    "dicOfRes ={}\n",
    "for strategy in strategies:\n",
    "    results = [0] * 101\n",
    "    for _ in range(1000):\n",
    "        game = Game(board_size=10, strategy=strategy)\n",
    "        game.start_game([2, 3, 3, 4, 5])\n",
    "        results[game.shot_count] += 1\n",
    "\n",
    "    print(results)\n",
    "    table_of_results.append(results)\n",
    "    data = results\n",
    "    plt.figure(figsize=(10, 6))\n",
    "    plt.plot(data, marker='o', linestyle='-', color='b')\n",
    "    plt.title('Wykres danych')\n",
    "    plt.xlabel('Index')\n",
    "    plt.ylabel('Value')\n",
    "    plt.grid(True)\n",
    "    plt.show()\n",
    "    end_time = time.time()\n",
    "    execution_time = end_time - start_time\n",
    "    print(f\"Czas wykonania: {execution_time:.5f} sekund\")"
   ]
  },
  {
   "cell_type": "code",
   "execution_count": 32,
   "metadata": {},
   "outputs": [
    {
     "name": "stdout",
     "output_type": "stream",
     "text": [
      "{0: 0, 1: 0, 2: 0, 3: 0, 4: 0, 5: 0, 6: 0, 7: 0, 8: 0, 9: 0, 10: 0, 11: 0, 12: 0, 13: 0, 14: 0, 15: 0, 16: 0, 17: 0, 18: 0, 19: 0, 20: 0, 21: 0, 22: 0, 23: 0, 24: 0, 25: 0, 26: 0, 27: 0, 28: 1, 29: 0, 30: 3, 31: 1, 32: 2, 33: 1, 34: 3, 35: 1, 36: 3, 37: 4, 38: 5, 39: 4, 40: 0, 41: 3, 42: 2, 43: 7, 44: 7, 45: 7, 46: 6, 47: 2, 48: 1, 49: 5, 50: 7, 51: 4, 52: 3, 53: 2, 54: 2, 55: 1, 56: 2, 57: 1, 58: 1, 59: 1, 60: 4, 61: 1, 62: 3, 63: 0, 64: 0, 65: 0, 66: 0, 67: 0, 68: 0, 69: 0, 70: 0, 71: 0, 72: 0, 73: 0, 74: 0, 75: 0, 76: 0, 77: 0, 78: 0, 79: 0, 80: 0, 81: 0, 82: 0, 83: 0, 84: 0, 85: 0, 86: 0, 87: 0, 88: 0, 89: 0, 90: 0, 91: 0, 92: 0, 93: 0, 94: 0, 95: 0, 96: 0, 97: 0, 98: 0, 99: 0, 100: 0}\n"
     ]
    }
   ],
   "source": [
    "import numpy as np\n",
    "import statistics as stats\n",
    "\n",
    "lista = [0, 0, 0, 0, 0, 0, 0, 0, 0, 0, 0, 0, 0, 0, 0, 0, 0, 0, 0, 0, 0, 0, 0, 0, 0, 0, 0, 0, 1, 0, 3, 1, 2, 1, 3, 1, 3, 4, 5, 4, 0, 3, 2, 7, 7, 7, 6, 2, 1, 5, 7, 4, 3, 2, 2, 1, 2, 1, 1, 1, 4, 1, 3, 0, 0, 0, 0, 0, 0, 0, 0, 0, 0, 0, 0, 0, 0, 0, 0, 0, 0, 0, 0, 0, 0, 0, 0, 0, 0, 0, 0, 0, 0, 0, 0, 0, 0, 0, 0, 0, 0]\n",
    "\n",
    "# Zamiana listy na słownik\n",
    "gry_w_ruchach = {i: lista[i] for i in range(len(lista))}\n",
    "\n",
    "# Wyświetlenie słownika\n",
    "print(gry_w_ruchach)\n"
   ]
  },
  {
   "cell_type": "code",
   "execution_count": 33,
   "metadata": {},
   "outputs": [
    {
     "name": "stdout",
     "output_type": "stream",
     "text": [
      "Średnia: 45.31\n",
      "Mediana: 45.0\n",
      "Odchylenie standardowe: 8.298344729675025\n",
      "Wariancja: 68.86252525252526\n",
      "Minimum: 28\n",
      "Maksimum: 62\n",
      "1. Kwartyl (25%): 39.0\n",
      "2. Kwartyl (50%) - Mediana: 45.0\n",
      "3. Kwartyl (75%): 50.25\n"
     ]
    }
   ],
   "source": [
    "# Rozszerzamy dane do pełnej listy wyników\n",
    "lista_ruchow = []\n",
    "for ruch, liczba_rozgrywek in gry_w_ruchach.items():\n",
    "    lista_ruchow.extend([ruch] * liczba_rozgrywek)\n",
    "\n",
    "# Obliczenia statystyczne\n",
    "srednia = stats.mean(lista_ruchow)\n",
    "mediana = stats.median(lista_ruchow)\n",
    "odchylenie_standardowe = stats.stdev(lista_ruchow)\n",
    "wariancja = stats.variance(lista_ruchow)\n",
    "minimum = min(lista_ruchow)\n",
    "maksimum = max(lista_ruchow)\n",
    "\n",
    "# Obliczenie kwartylów\n",
    "q1 = np.percentile(lista_ruchow, 25)  # 1. kwartyl (dolny kwartyl)\n",
    "q2 = np.percentile(lista_ruchow, 50)  # 2. kwartyl (mediana)\n",
    "q3 = np.percentile(lista_ruchow, 75)  # 3. kwartyl (górny kwartyl)\n",
    "\n",
    "# Wyniki\n",
    "print(f\"Średnia: {srednia}\")\n",
    "print(f\"Mediana: {mediana}\")\n",
    "print(f\"Odchylenie standardowe: {odchylenie_standardowe}\")\n",
    "print(f\"Wariancja: {wariancja}\")\n",
    "print(f\"Minimum: {minimum}\")\n",
    "print(f\"Maksimum: {maksimum}\")\n",
    "print(f\"1. Kwartyl (25%): {q1}\")\n",
    "print(f\"2. Kwartyl (50%) - Mediana: {q2}\")\n",
    "print(f\"3. Kwartyl (75%): {q3}\")"
   ]
  },
  {
   "cell_type": "code",
   "execution_count": 13,
   "metadata": {},
   "outputs": [
    {
     "name": "stdout",
     "output_type": "stream",
     "text": [
      "(44.9085, 8.700880860579577)\n"
     ]
    }
   ],
   "source": [
    "for result in table_of_results:\n",
    "    print(xyz(result))"
   ]
  },
  {
   "cell_type": "markdown",
   "metadata": {},
   "source": [
    "(95.344, 4.774061583180511)\n",
    "(47.833, 10.689205349323212)\n",
    "(48.192, 11.685424083018981)\n",
    "(49.354, 10.333183633324243)"
   ]
  },
  {
   "cell_type": "code",
   "execution_count": 14,
   "metadata": {},
   "outputs": [
    {
     "name": "stdout",
     "output_type": "stream",
     "text": [
      "Czas wykonania: 240.12648 sekund\n"
     ]
    }
   ],
   "source": [
    "end_time = time.time()\n",
    "execution_time = end_time - start_time\n",
    "print(f\"Czas wykonania: {execution_time:.5f} sekund\")"
   ]
  },
  {
   "cell_type": "code",
   "execution_count": 15,
   "metadata": {},
   "outputs": [
    {
     "name": "stdout",
     "output_type": "stream",
     "text": [
      "ShapiroResult(statistic=0.6949383020401001, pvalue=3.4971187729514186e-13)\n"
     ]
    }
   ],
   "source": [
    "import scipy.stats as stats\n",
    "\n",
    "# Data provided\n",
    "for result in table_of_results:\n",
    "\n",
    "    print(stats.shapiro(result))\n"
   ]
  },
  {
   "cell_type": "code",
   "execution_count": 16,
   "metadata": {},
   "outputs": [
    {
     "ename": "IndexError",
     "evalue": "list index out of range",
     "output_type": "error",
     "traceback": [
      "\u001b[1;31m---------------------------------------------------------------------------\u001b[0m",
      "\u001b[1;31mIndexError\u001b[0m                                Traceback (most recent call last)",
      "\u001b[1;32m<ipython-input-16-c7ee8830d888>\u001b[0m in \u001b[0;36m<module>\u001b[1;34m\u001b[0m\n\u001b[1;32m----> 1\u001b[1;33m \u001b[0mlista_bez_zer\u001b[0m \u001b[1;33m=\u001b[0m \u001b[1;33m[\u001b[0m\u001b[0mx\u001b[0m \u001b[1;32mfor\u001b[0m \u001b[0mx\u001b[0m \u001b[1;32min\u001b[0m \u001b[0mtable_of_results\u001b[0m\u001b[1;33m[\u001b[0m\u001b[1;36m1\u001b[0m\u001b[1;33m]\u001b[0m \u001b[1;32mif\u001b[0m \u001b[0mx\u001b[0m \u001b[1;33m!=\u001b[0m \u001b[1;36m0\u001b[0m\u001b[1;33m]\u001b[0m\u001b[1;33m\u001b[0m\u001b[1;33m\u001b[0m\u001b[0m\n\u001b[0m\u001b[0;32m      2\u001b[0m \u001b[0mprint\u001b[0m\u001b[1;33m(\u001b[0m\u001b[0mstats\u001b[0m\u001b[1;33m.\u001b[0m\u001b[0mshapiro\u001b[0m\u001b[1;33m(\u001b[0m\u001b[0mlista_bez_zer\u001b[0m\u001b[1;33m)\u001b[0m\u001b[1;33m)\u001b[0m\u001b[1;33m\u001b[0m\u001b[1;33m\u001b[0m\u001b[0m\n",
      "\u001b[1;31mIndexError\u001b[0m: list index out of range"
     ]
    }
   ],
   "source": [
    "lista_bez_zer = [x for x in table_of_results[1] if x != 0]\n",
    "print(stats.shapiro(lista_bez_zer))"
   ]
  }
 ],
 "metadata": {
  "kernelspec": {
   "display_name": "Python 3",
   "language": "python",
   "name": "python3"
  },
  "language_info": {
   "codemirror_mode": {
    "name": "ipython",
    "version": 3
   },
   "file_extension": ".py",
   "mimetype": "text/x-python",
   "name": "python",
   "nbconvert_exporter": "python",
   "pygments_lexer": "ipython3",
   "version": "3.9.4"
  }
 },
 "nbformat": 4,
 "nbformat_minor": 2
}
